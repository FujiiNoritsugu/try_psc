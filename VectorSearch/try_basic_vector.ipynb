{
 "cells": [
  {
   "cell_type": "code",
   "execution_count": 5,
   "id": "565d918a",
   "metadata": {},
   "outputs": [],
   "source": [
    "# get project ID\n",
    "PROJECT_ID = ! gcloud config get-value project\n",
    "PROJECT_ID = PROJECT_ID[0]\n",
    "LOCATION = \"asia-northeast1\"\n",
    "if PROJECT_ID == \"(unset)\":\n",
    "    print(f\"Please set the project ID manually below\")"
   ]
  },
  {
   "cell_type": "code",
   "execution_count": 7,
   "id": "2b532942",
   "metadata": {},
   "outputs": [],
   "source": [
    "# define project information\n",
    "if PROJECT_ID == \"(unset)\":\n",
    "  PROJECT_ID = \"[your-project-id]\"\n",
    "\n",
    "# generate a unique id for this session\n",
    "from datetime import datetime\n",
    "UID = datetime.now().strftime(\"%m%d%H%M\")"
   ]
  },
  {
   "cell_type": "code",
   "execution_count": 8,
   "id": "37e6469d",
   "metadata": {},
   "outputs": [],
   "source": [
    "BUCKET_URI = f\"gs://{PROJECT_ID}-vs-quickstart-{UID}\""
   ]
  },
  {
   "cell_type": "code",
   "execution_count": 9,
   "id": "a0ddd6ee",
   "metadata": {},
   "outputs": [
    {
     "name": "stdout",
     "output_type": "stream",
     "text": [
      "Creating gs://gen-lang-client-0471694923-vs-quickstart-05130521/...\n",
      "Copying gs://github-repo/data/vs-quickstart/product-embs.json to gs://gen-lang-client-0471694923-vs-quickstart-05130521/product-embs.json\n",
      "  Completed files 1/1 | 79.3MiB/79.3MiB                                        \n"
     ]
    }
   ],
   "source": [
    "! gcloud storage buckets create $BUCKET_URI --location=$LOCATION --project=$PROJECT_ID\n",
    "! gcloud storage cp \"gs://github-repo/data/vs-quickstart/product-embs.json\" $BUCKET_URI"
   ]
  },
  {
   "cell_type": "code",
   "execution_count": 10,
   "id": "851f1b6d",
   "metadata": {},
   "outputs": [
    {
     "name": "stdout",
     "output_type": "stream",
     "text": [
      "Copying gs://github-repo/data/vs-quickstart/product-embs.json to file://./product-embs.json\n",
      "  Completed files 1/1 | 79.3MiB/79.3MiB | 11.7MiB/s                            \n",
      "\n",
      "Average throughput: 11.4MiB/s\n"
     ]
    }
   ],
   "source": [
    "! gcloud storage cp \"gs://github-repo/data/vs-quickstart/product-embs.json\" . # for query tests"
   ]
  },
  {
   "cell_type": "code",
   "execution_count": 11,
   "id": "f1bee795",
   "metadata": {},
   "outputs": [],
   "source": [
    "# init the aiplatform package\n",
    "from google.cloud import aiplatform\n",
    "aiplatform.init(project=PROJECT_ID, location=LOCATION)"
   ]
  },
  {
   "cell_type": "code",
   "execution_count": 12,
   "id": "0493bb32",
   "metadata": {},
   "outputs": [
    {
     "name": "stdout",
     "output_type": "stream",
     "text": [
      "Creating MatchingEngineIndex\n",
      "Create MatchingEngineIndex backing LRO: projects/1010478563120/locations/asia-northeast1/indexes/2772229453437206528/operations/5909718318889041920\n",
      "MatchingEngineIndex created. Resource name: projects/1010478563120/locations/asia-northeast1/indexes/2772229453437206528\n",
      "To use this MatchingEngineIndex in another session:\n",
      "index = aiplatform.MatchingEngineIndex('projects/1010478563120/locations/asia-northeast1/indexes/2772229453437206528')\n"
     ]
    }
   ],
   "source": [
    "# create Index\n",
    "my_index = aiplatform.MatchingEngineIndex.create_tree_ah_index(\n",
    "    display_name = f\"vs-quickstart-index-{UID}\",\n",
    "    contents_delta_uri = BUCKET_URI,\n",
    "    dimensions = 768,\n",
    "    approximate_neighbors_count = 100,\n",
    ")"
   ]
  },
  {
   "cell_type": "code",
   "execution_count": 13,
   "id": "f36ac57e",
   "metadata": {},
   "outputs": [
    {
     "name": "stdout",
     "output_type": "stream",
     "text": [
      "Creating MatchingEngineIndexEndpoint\n",
      "Create MatchingEngineIndexEndpoint backing LRO: projects/1010478563120/locations/asia-northeast1/indexEndpoints/1995745545808773120/operations/8785829630918524928\n",
      "MatchingEngineIndexEndpoint created. Resource name: projects/1010478563120/locations/asia-northeast1/indexEndpoints/1995745545808773120\n",
      "To use this MatchingEngineIndexEndpoint in another session:\n",
      "index_endpoint = aiplatform.MatchingEngineIndexEndpoint('projects/1010478563120/locations/asia-northeast1/indexEndpoints/1995745545808773120')\n"
     ]
    }
   ],
   "source": [
    "## create `IndexEndpoint`\n",
    "my_index_endpoint = aiplatform.MatchingEngineIndexEndpoint.create(\n",
    "    display_name = f\"vs-quickstart-index-endpoint-{UID}\",\n",
    "    public_endpoint_enabled=False,\n",
    "    enable_private_service_connect=True,\n",
    "    project_allowlist=[PROJECT_ID],\n",
    ")"
   ]
  },
  {
   "cell_type": "code",
   "execution_count": 14,
   "id": "9827479c",
   "metadata": {},
   "outputs": [],
   "source": [
    "DEPLOYED_INDEX_ID = f\"vs_quickstart_deployed_{UID}\""
   ]
  },
  {
   "cell_type": "code",
   "execution_count": 15,
   "id": "e8472ee0",
   "metadata": {},
   "outputs": [
    {
     "name": "stdout",
     "output_type": "stream",
     "text": [
      "Deploying index MatchingEngineIndexEndpoint index_endpoint: projects/1010478563120/locations/asia-northeast1/indexEndpoints/1995745545808773120\n",
      "Deploy index MatchingEngineIndexEndpoint index_endpoint backing LRO: projects/1010478563120/locations/asia-northeast1/indexEndpoints/1995745545808773120/operations/6205267044435230720\n",
      "MatchingEngineIndexEndpoint index_endpoint Deployed index. Resource name: projects/1010478563120/locations/asia-northeast1/indexEndpoints/1995745545808773120\n"
     ]
    },
    {
     "data": {
      "text/plain": [
       "<google.cloud.aiplatform.matching_engine.matching_engine_index_endpoint.MatchingEngineIndexEndpoint object at 0x7faafafdb910> \n",
       "resource name: projects/1010478563120/locations/asia-northeast1/indexEndpoints/1995745545808773120"
      ]
     },
     "execution_count": 15,
     "metadata": {},
     "output_type": "execute_result"
    }
   ],
   "source": [
    "# deploy the Index to the Index Endpoint\n",
    "my_index_endpoint.deploy_index(\n",
    "    index = my_index, deployed_index_id = DEPLOYED_INDEX_ID,\n",
    "        psc_automation_configs=[(\"gen-lang-client-0471694923\", \"projects/1010478563120/global/networks/try-vpc\")]\n",
    ")"
   ]
  }
 ],
 "metadata": {
  "kernelspec": {
   "display_name": "venv",
   "language": "python",
   "name": "python3"
  },
  "language_info": {
   "codemirror_mode": {
    "name": "ipython",
    "version": 3
   },
   "file_extension": ".py",
   "mimetype": "text/x-python",
   "name": "python",
   "nbconvert_exporter": "python",
   "pygments_lexer": "ipython3",
   "version": "3.10.12"
  }
 },
 "nbformat": 4,
 "nbformat_minor": 5
}
